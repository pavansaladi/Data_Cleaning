{
 "cells": [
  {
   "cell_type": "code",
   "execution_count": 1,
   "metadata": {},
   "outputs": [],
   "source": [
    "ch=ord('F')"
   ]
  },
  {
   "cell_type": "code",
   "execution_count": 2,
   "metadata": {},
   "outputs": [
    {
     "name": "stdout",
     "output_type": "stream",
     "text": [
      "70\n"
     ]
    }
   ],
   "source": [
    "print(ch)"
   ]
  },
  {
   "cell_type": "code",
   "execution_count": 3,
   "metadata": {},
   "outputs": [
    {
     "name": "stdout",
     "output_type": "stream",
     "text": [
      "pavan11k2\n"
     ]
    }
   ],
   "source": [
    "name=input()"
   ]
  },
  {
   "cell_type": "code",
   "execution_count": 4,
   "metadata": {},
   "outputs": [
    {
     "data": {
      "text/plain": [
       "str"
      ]
     },
     "execution_count": 4,
     "metadata": {},
     "output_type": "execute_result"
    }
   ],
   "source": [
    "type(name)"
   ]
  },
  {
   "cell_type": "code",
   "execution_count": 1,
   "metadata": {},
   "outputs": [],
   "source": [
    "a=\"GCTA\""
   ]
  },
  {
   "cell_type": "code",
   "execution_count": 7,
   "metadata": {},
   "outputs": [
    {
     "data": {
      "text/plain": [
       "0"
      ]
     },
     "execution_count": 7,
     "metadata": {},
     "output_type": "execute_result"
    }
   ],
   "source": [
    "a.index(\"G\")"
   ]
  },
  {
   "cell_type": "code",
   "execution_count": 8,
   "metadata": {},
   "outputs": [
    {
     "name": "stdout",
     "output_type": "stream",
     "text": [
      "abcd\n"
     ]
    }
   ],
   "source": [
    "try:\n",
    "    print(\"abcd\")\n",
    "except:\n",
    "    print(\"bcda\")"
   ]
  },
  {
   "cell_type": "code",
   "execution_count": 15,
   "metadata": {},
   "outputs": [
    {
     "name": "stdout",
     "output_type": "stream",
     "text": [
      "G,1 C,1 T,1 A,1 "
     ]
    }
   ],
   "source": [
    "for i in a:\n",
    "    print(i,\"1\",sep=\",\",end=\" \")"
   ]
  },
  {
   "cell_type": "code",
   "execution_count": 23,
   "metadata": {},
   "outputs": [],
   "source": [
    "li=name.split(\" \")"
   ]
  },
  {
   "cell_type": "code",
   "execution_count": 26,
   "metadata": {},
   "outputs": [],
   "source": [
    "lis=list(map(int,li))"
   ]
  },
  {
   "cell_type": "code",
   "execution_count": 27,
   "metadata": {},
   "outputs": [
    {
     "data": {
      "text/plain": [
       "[13, 5, 2]"
      ]
     },
     "execution_count": 27,
     "metadata": {},
     "output_type": "execute_result"
    }
   ],
   "source": [
    "lis"
   ]
  },
  {
   "cell_type": "code",
   "execution_count": 28,
   "metadata": {},
   "outputs": [
    {
     "name": "stdout",
     "output_type": "stream",
     "text": [
      "13 5 2\n"
     ]
    }
   ],
   "source": [
    "name=input()"
   ]
  },
  {
   "cell_type": "code",
   "execution_count": 29,
   "metadata": {},
   "outputs": [],
   "source": [
    "a,b,c=list(map(int,name.split(\" \")))"
   ]
  },
  {
   "cell_type": "code",
   "execution_count": 30,
   "metadata": {},
   "outputs": [
    {
     "data": {
      "text/plain": [
       "13"
      ]
     },
     "execution_count": 30,
     "metadata": {},
     "output_type": "execute_result"
    }
   ],
   "source": [
    "a"
   ]
  },
  {
   "cell_type": "code",
   "execution_count": 31,
   "metadata": {},
   "outputs": [
    {
     "data": {
      "text/plain": [
       "5"
      ]
     },
     "execution_count": 31,
     "metadata": {},
     "output_type": "execute_result"
    }
   ],
   "source": [
    "b"
   ]
  },
  {
   "cell_type": "code",
   "execution_count": 88,
   "metadata": {},
   "outputs": [],
   "source": [
    "a,b,c=range(3)"
   ]
  },
  {
   "cell_type": "code",
   "execution_count": 89,
   "metadata": {},
   "outputs": [
    {
     "data": {
      "text/plain": [
       "0"
      ]
     },
     "execution_count": 89,
     "metadata": {},
     "output_type": "execute_result"
    }
   ],
   "source": [
    "a"
   ]
  },
  {
   "cell_type": "code",
   "execution_count": 90,
   "metadata": {},
   "outputs": [
    {
     "data": {
      "text/plain": [
       "1"
      ]
     },
     "execution_count": 90,
     "metadata": {},
     "output_type": "execute_result"
    }
   ],
   "source": [
    "b"
   ]
  },
  {
   "cell_type": "code",
   "execution_count": 68,
   "metadata": {},
   "outputs": [],
   "source": [
    "a=\"abcd\""
   ]
  },
  {
   "cell_type": "code",
   "execution_count": 72,
   "metadata": {},
   "outputs": [
    {
     "name": "stdout",
     "output_type": "stream",
     "text": [
      "abcd"
     ]
    }
   ],
   "source": [
    "for i in a:\n",
    "    print(\".\".join(i),end=\"\")"
   ]
  },
  {
   "cell_type": "code",
   "execution_count": 73,
   "metadata": {},
   "outputs": [
    {
     "data": {
      "text/plain": [
       "False"
      ]
     },
     "execution_count": 73,
     "metadata": {},
     "output_type": "execute_result"
    }
   ],
   "source": [
    "\"i\" in \"python\""
   ]
  },
  {
   "cell_type": "code",
   "execution_count": 74,
   "metadata": {},
   "outputs": [
    {
     "data": {
      "text/plain": [
       "False"
      ]
     },
     "execution_count": 74,
     "metadata": {},
     "output_type": "execute_result"
    }
   ],
   "source": [
    "\"I\" is \"i\""
   ]
  },
  {
   "cell_type": "code",
   "execution_count": 75,
   "metadata": {},
   "outputs": [
    {
     "data": {
      "text/plain": [
       "True"
      ]
     },
     "execution_count": 75,
     "metadata": {},
     "output_type": "execute_result"
    }
   ],
   "source": [
    "\"I\" is \"I\""
   ]
  },
  {
   "cell_type": "code",
   "execution_count": 76,
   "metadata": {},
   "outputs": [
    {
     "data": {
      "text/plain": [
       "0"
      ]
     },
     "execution_count": 76,
     "metadata": {},
     "output_type": "execute_result"
    }
   ],
   "source": [
    "\"abcd\".index(\"a\")"
   ]
  },
  {
   "cell_type": "code",
   "execution_count": 85,
   "metadata": {},
   "outputs": [],
   "source": [
    "li=list(map(int,\"\".join([\"1\",\"2\",\"3\"])))"
   ]
  },
  {
   "cell_type": "code",
   "execution_count": 86,
   "metadata": {},
   "outputs": [
    {
     "data": {
      "text/plain": [
       "[1, 2, 3]"
      ]
     },
     "execution_count": 86,
     "metadata": {},
     "output_type": "execute_result"
    }
   ],
   "source": [
    "li"
   ]
  },
  {
   "cell_type": "code",
   "execution_count": 81,
   "metadata": {},
   "outputs": [
    {
     "data": {
      "text/plain": [
       "str"
      ]
     },
     "execution_count": 81,
     "metadata": {},
     "output_type": "execute_result"
    }
   ],
   "source": [
    "type(li)"
   ]
  },
  {
   "cell_type": "markdown",
   "metadata": {},
   "source": [
    "# List,Sets and Dictionaries  "
   ]
  },
  {
   "cell_type": "code",
   "execution_count": 14,
   "metadata": {},
   "outputs": [],
   "source": [
    "# list[2]\n",
    "# list.append(\"abcde\")\n",
    "# list.insert(2,\"abcd\")\n",
    "# list.extend([lis])\n",
    "# list.reverse()\n",
    "# list.sort() \n",
    "# len(list)\n",
    "# list.pop()\n",
    "# list.pop(1) removing with index\n",
    "# list.remove(\"abcd\") removing the string in the list\n",
    "# list.index(\"abcde\") index of the string in the list\n",
    "# del list[2] deletin an element by index"
   ]
  },
  {
   "cell_type": "code",
   "execution_count": 93,
   "metadata": {},
   "outputs": [],
   "source": [
    "# A dictionary in Python doesn't preserve the order.\n",
    "# person1_information = {}\n",
    "# person1_information[\"city\"] = \"San Francisco\"\n",
    "# person1_information[\"name\"] = \"Sam\"\n",
    "# print(person1_information)\n",
    "# remaining_information = {'name': 'Sam', \"food\": \"shrimps\"}\n",
    "# person1_information.update(remaining_information)\n",
    "# del person1_information[\"food\"]\n",
    "# person1_information.has_key(\"name\")"
   ]
  },
  {
   "cell_type": "code",
   "execution_count": 99,
   "metadata": {},
   "outputs": [],
   "source": [
    "# setA = set([1, 2, 3, 4, 5, 6, 7, 7, 7])\n",
    "# {1, 2, 3, 4, 5, 6, 7}\n",
    "# setA.add(8)\n",
    "# setA.add((9, 10))   add a tuple (9, 10) to the setA\n",
    "# {1, 2, 3, 4, 5, 6, 7, 8, (9, 10)}\n",
    "# setA.update([11, 12]) for list we need to use the update\n",
    "# {1, 2, 3, 4, 5, 6, 7, 8, 11, 12, (9, 10)}\n",
    "# setA.update([12, 14], {15, 16})\n",
    "# {1, 2, 3, 4, 5, 6, 7, 8, 11, 12, 14, 15, (9, 10), 16}\n",
    "# setA.remove(8)\n",
    "# setA.pop()\n",
    "# print(setA & setB) Intersection of two sets\n",
    "# setA.difference(setB)"
   ]
  },
  {
   "cell_type": "code",
   "execution_count": 100,
   "metadata": {},
   "outputs": [],
   "source": [
    "# [x for x in range(10)]\n",
    "# {x:x**2 for x in range(5)}  // {0: 0, 1: 1, 2: 4, 3: 9, 4: 16}\n",
    "# list(x for x in range(10))  // [0, 1, 2, 3, 4, 5, 6, 7, 8, 9]\n",
    "# x = \"1\" if True else \"2\""
   ]
  },
  {
   "cell_type": "code",
   "execution_count": 125,
   "metadata": {},
   "outputs": [],
   "source": [
    "class snake:\n",
    "    def __init__(self,name):\n",
    "        self.name=name\n",
    "    def change(self,nm):\n",
    "        self.name=nm"
   ]
  },
  {
   "cell_type": "code",
   "execution_count": 126,
   "metadata": {},
   "outputs": [],
   "source": [
    "snk=snake(\"python\")"
   ]
  },
  {
   "cell_type": "code",
   "execution_count": 127,
   "metadata": {},
   "outputs": [
    {
     "data": {
      "text/plain": [
       "'python'"
      ]
     },
     "execution_count": 127,
     "metadata": {},
     "output_type": "execute_result"
    }
   ],
   "source": [
    "snk.name"
   ]
  },
  {
   "cell_type": "code",
   "execution_count": 128,
   "metadata": {},
   "outputs": [
    {
     "data": {
      "text/plain": [
       "'anac'"
      ]
     },
     "execution_count": 128,
     "metadata": {},
     "output_type": "execute_result"
    }
   ],
   "source": [
    "snk.change(\"anac\")\n",
    "snk.name"
   ]
  },
  {
   "cell_type": "markdown",
   "metadata": {},
   "source": [
    "# Try and Exception Block"
   ]
  },
  {
   "cell_type": "code",
   "execution_count": 129,
   "metadata": {},
   "outputs": [],
   "source": [
    "# try:\n",
    "#      print(\"in the try block\")\n",
    "#      print(1/0)\n",
    "#  except:\n",
    "#      print(\"In the except block\")\n",
    "#  finally:\n",
    "#      print(\"In the finally block\")"
   ]
  },
  {
   "cell_type": "code",
   "execution_count": 130,
   "metadata": {},
   "outputs": [],
   "source": [
    "# while True:\n",
    "#     try:\n",
    "#         user = int(input())\n",
    "#         if user < 0:\n",
    "#         raise ValueError(\"please give positive number\")\n",
    "#         else:\n",
    "#         print(\"user input: %s\" % user)\n",
    "# except ValueError as e:\n",
    "#         print(e)"
   ]
  },
  {
   "cell_type": "code",
   "execution_count": 141,
   "metadata": {},
   "outputs": [],
   "source": [
    "def vowels():\n",
    "    yield \"a\"\n",
    "    yield \"e\"\n",
    "    yield \"i\"\n",
    "    yield \"o\"\n",
    "    yield \"u\""
   ]
  },
  {
   "cell_type": "code",
   "execution_count": 142,
   "metadata": {},
   "outputs": [
    {
     "name": "stdout",
     "output_type": "stream",
     "text": [
      "a\n",
      "e\n",
      "i\n",
      "o\n",
      "u\n"
     ]
    }
   ],
   "source": [
    "for i in vowels():\n",
    "    print(i)"
   ]
  },
  {
   "cell_type": "markdown",
   "metadata": {},
   "source": [
    "# MatPlot and Seaborn"
   ]
  },
  {
   "cell_type": "code",
   "execution_count": 3,
   "metadata": {},
   "outputs": [],
   "source": [
    "import random\n",
    "import numpy as np"
   ]
  },
  {
   "cell_type": "code",
   "execution_count": 4,
   "metadata": {},
   "outputs": [],
   "source": [
    "x=np.random.random((10,1))"
   ]
  },
  {
   "cell_type": "code",
   "execution_count": 5,
   "metadata": {},
   "outputs": [
    {
     "name": "stdout",
     "output_type": "stream",
     "text": [
      "[[0.13938203]\n",
      " [0.02414894]\n",
      " [0.3833316 ]\n",
      " [0.60979422]\n",
      " [0.55264635]\n",
      " [0.09367398]\n",
      " [0.89890952]\n",
      " [0.35369838]\n",
      " [0.58937746]\n",
      " [0.54493208]]\n"
     ]
    }
   ],
   "source": [
    "print(x)"
   ]
  },
  {
   "cell_type": "code",
   "execution_count": 6,
   "metadata": {},
   "outputs": [],
   "source": [
    "import matplotlib.pyplot as plt"
   ]
  },
  {
   "cell_type": "code",
   "execution_count": 7,
   "metadata": {},
   "outputs": [
    {
     "data": {
      "text/plain": [
       "[<matplotlib.lines.Line2D at 0x1c43dbe9630>]"
      ]
     },
     "execution_count": 7,
     "metadata": {},
     "output_type": "execute_result"
    },
    {
     "data": {
      "image/png": "[encoded data removed]",
      "text/plain": [
       "<Figure size 432x288 with 1 Axes>"
      ]
     },
     "metadata": {
      "needs_background": "light"
     },
     "output_type": "display_data"
    }
   ],
   "source": [
    "plt.plot(x)\n",
    "# plt.plot(x,'*')\n",
    "# plt.plot(x,\"'*-'\")"
   ]
  },
  {
   "cell_type": "code",
   "execution_count": 8,
   "metadata": {},
   "outputs": [],
   "source": [
    "# import seaborn as sns\n",
    "# sns.set()\n",
    "# sns.lineplot(x,y,'*')"
   ]
  },
  {
   "cell_type": "markdown",
   "metadata": {},
   "source": [
    "# Pandas"
   ]
  },
  {
   "cell_type": "code",
   "execution_count": 15,
   "metadata": {},
   "outputs": [],
   "source": [
    "# import pandas as pd\n",
    "# data = pd.read_csv('mobile.csv')  // data is the dataframe here\n",
    "# for dataframe we can apply data.shape(),data.head(6),data.tail(6)\n",
    "# data.columns,data[\"first\"],data[[\"first\",\"second\"]] for selecting the columns\n",
    "# data.iloc[:5] for selecting the first five rows \n",
    "# data.iloc[:,:2]\n",
    "# data[data[\"first\"]==2] selecting with a particular condition\n",
    "# data.head()\n",
    "# ax=sns.scatterplot(x=\"date\",y=\"time\",data=data)\n",
    "# ax=sns.scatterplot(x=\"date\",y=\"time\",hue=\"thickness\",data=data)\n",
    "# ax=sns.distplot(data(\"date\"))  //histograms"
   ]
  },
  {
   "cell_type": "code",
   "execution_count": 1,
   "metadata": {},
   "outputs": [],
   "source": [
    "# categorical variables are stored inside as object in pandas\n",
    "# whereas continuous variables are stored as int or float in pandas\n",
    "# these can be identified by dtypes\n",
    "# use df.dtypes and condiser object as categorical and int or float as continuous"
   ]
  },
  {
   "cell_type": "markdown",
   "metadata": {},
   "source": [
    "# Univariate analysis for continuous variables"
   ]
  },
  {
   "cell_type": "code",
   "execution_count": 2,
   "metadata": {},
   "outputs": [],
   "source": [
    "# univariate analysis give the anamolies present in the single column using boxplot\n",
    "# when the data is present above or below then they are considered as anomloies\n",
    "# Distribution of variables - Symmetric/Right Skewed/left skewed\n",
    "# Presence of missing values\n",
    "# presence of outliers(using boxplot)\n",
    "# mean and median and standard deviation"
   ]
  },
  {
   "cell_type": "code",
   "execution_count": 3,
   "metadata": {},
   "outputs": [],
   "source": [
    "# performing univariate analysis using\n",
    "# tabular method-mean ,median,standard deviation and missing values  using describe() function\n",
    "# graphical method-Distribution of variables and presence of outliers"
   ]
  },
  {
   "cell_type": "markdown",
   "metadata": {},
   "source": [
    "# Univariate analysis for categorical variables"
   ]
  },
  {
   "cell_type": "code",
   "execution_count": 4,
   "metadata": {},
   "outputs": [],
   "source": [
    "# performing univariate analysis using\n",
    "# tabular method-count and count%  using value_counts(), gives the frequency table\n",
    "# graphical method-Bar plots"
   ]
  },
  {
   "cell_type": "markdown",
   "metadata": {},
   "source": [
    "# Bivariate analysis "
   ]
  },
  {
   "cell_type": "code",
   "execution_count": null,
   "metadata": {},
   "outputs": [],
   "source": [
    "# Used for predicting the value by extending the line\n",
    "# it helps in detecting anamolies(which are present far from the line like outlier)\n",
    "\n",
    "# for (continuous-continuous)\n",
    "# Correalation measures the strength of linear relationship between two continuous variables along with their direction\n",
    "# we will use correlation for the two continuous variables when we can't say anything from the plot\n",
    "# when the value comes negative then one is increasing and other is decreasing and the value says the strength "
   ]
  },
  {
   "cell_type": "markdown",
   "metadata": {},
   "source": [
    "# Missing values"
   ]
  },
  {
   "cell_type": "code",
   "execution_count": 5,
   "metadata": {},
   "outputs": [],
   "source": [
    "# Using describe function for continuous variable and describe(include=\"all\") for all variables(continuous and categorical)\n",
    "# Isnull() for all variables(categorical and continuous)\n",
    "# for continuous variables use mean,median or regression(to impute the value)\n",
    "# for categorical variables use mode,classification(to impute the value)\n",
    "# Another type is, we can delete entire rwo or column when it is having null value(Use ratherly)"
   ]
  },
  {
   "cell_type": "markdown",
   "metadata": {},
   "source": [
    "# Outlier Treatment"
   ]
  },
  {
   "cell_type": "code",
   "execution_count": 6,
   "metadata": {},
   "outputs": [],
   "source": [
    "# Deleting the observation\n",
    "# Transforming the variables using log or someother"
   ]
  },
  {
   "cell_type": "markdown",
   "metadata": {},
   "source": [
    "# Variable Trasformations"
   ]
  },
  {
   "cell_type": "code",
   "execution_count": 2,
   "metadata": {},
   "outputs": [],
   "source": [
    "# Converts non linear relationships to linear relationship\n",
    "# Converts skewed distributions to symmetric distributions\n",
    "# use logarthimic,square root,cube root\n",
    "# in the case of skewed distribution, taking log can help us to make the distribution close to normal.\n",
    "# np.log(df[\"age\"]).plot.hist()\n",
    "# np.sqrt(df[\"age\"]).plot.hist()\n",
    "# np.power(df[\"age\"],1/3).plot.hist()\n",
    "# Use binning to convert continuous to categorical"
   ]
  },
  {
   "cell_type": "code",
   "execution_count": 3,
   "metadata": {},
   "outputs": [],
   "source": [
    "# bins=[0,15,80]\n",
    "# group=[\"children\",\"adult\"]\n",
    "\n",
    "# df[\"type\"] = pd.cut(df[\"age\"],bins,label=group)\n",
    "# creates a column with the name type and stores the group name according to the value\n",
    "# df[\"type\"].value_counts()"
   ]
  },
  {
   "cell_type": "markdown",
   "metadata": {},
   "source": [
    "# sklearn(scikit-learn)"
   ]
  },
  {
   "cell_type": "code",
   "execution_count": 1,
   "metadata": {},
   "outputs": [],
   "source": [
    "# Used for preprocessing tasks such as Normalisation,Scaling,Variable encoding(categorical variables into numbers use onehotencoding)\n",
    "# used for model selection such as Train-test split,model validation,parameter search\n",
    "# Building a model such as linear model,ensemble model,clustering\n",
    "# for model evaluation like metrics\n",
    "# from sklearn.metrics import accuracy_scorey_score\n",
    "# Large k means a simple model and a simple model always leads to high bias.(in k-nn)\n",
    "# Euclidean and Manhattan distance are valid only for continuous variables whereas Hamming distance is used for categorical variables.\n",
    "# As the value of k increases, the final prediction takes into account a larger number of data points. Hence the decision boundary would become smoother."
   ]
  },
  {
   "cell_type": "code",
   "execution_count": 2,
   "metadata": {},
   "outputs": [],
   "source": [
    "# from sklearn.preprocessing import MinMaxScaler\n",
    "# scaler = MinMaxScaler()\n",
    "# x_scaled=scaler.fit_transform(x) # it returns an array\n",
    "# x=pd.DataFrame(x_scaled, columns=x.columns) # to convert array to data frame"
   ]
  },
  {
   "cell_type": "code",
   "execution_count": null,
   "metadata": {},
   "outputs": [],
   "source": []
  }
 ],
 "metadata": {
  "kernelspec": {
   "display_name": "Python 3",
   "language": "python",
   "name": "python3"
  },
  "language_info": {
   "codemirror_mode": {
    "name": "ipython",
    "version": 3
   },
   "file_extension": ".py",
   "mimetype": "text/x-python",
   "name": "python",
   "nbconvert_exporter": "python",
   "pygments_lexer": "ipython3",
   "version": "3.7.1"
  }
 },
 "nbformat": 4,
 "nbformat_minor": 2
}
